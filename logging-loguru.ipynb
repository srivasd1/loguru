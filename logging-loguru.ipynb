{
 "cells": [
  {
   "cell_type": "markdown",
   "id": "e6a2e89c",
   "metadata": {},
   "source": [
    "# Loguru\n",
    "Loguru is a logging utility developed by Delgan. It is easy to use and better option than the built-in logging module. It uses API, which makes it easy to implement logging in software developement. Built-in Features: Automatic log rotation, Exception, and Filtering.  "
   ]
  },
  {
   "cell_type": "code",
   "execution_count": 5,
   "id": "6116f41a",
   "metadata": {},
   "outputs": [
    {
     "name": "stderr",
     "output_type": "stream",
     "text": [
      "\u001b[32m2023-05-02 17:58:49.192\u001b[0m | \u001b[1mINFO    \u001b[0m | \u001b[36m__main__\u001b[0m:\u001b[36mdivide\u001b[0m:\u001b[36m5\u001b[0m - \u001b[1mDivision successful 20/5=4.0\u001b[0m\n",
      "\u001b[32m2023-05-02 17:58:49.196\u001b[0m | \u001b[1mINFO    \u001b[0m | \u001b[36m__main__\u001b[0m:\u001b[36mdivide\u001b[0m:\u001b[36m5\u001b[0m - \u001b[1mDivision successful 16/2=8.0\u001b[0m\n",
      "\u001b[32m2023-05-02 17:58:49.198\u001b[0m | \u001b[31m\u001b[1mERROR   \u001b[0m | \u001b[36m__main__\u001b[0m:\u001b[36mdivide\u001b[0m:\u001b[36m8\u001b[0m - \u001b[31m\u001b[1mAttempted to divide by 0:8/0\u001b[0m\n",
      "\u001b[32m2023-05-02 17:58:49.201\u001b[0m | \u001b[1mINFO    \u001b[0m | \u001b[36m__main__\u001b[0m:\u001b[36mdivide\u001b[0m:\u001b[36m5\u001b[0m - \u001b[1mDivision successful 17/3=5.666666666666667\u001b[0m\n",
      "\u001b[32m2023-05-02 17:58:49.203\u001b[0m | \u001b[1mINFO    \u001b[0m | \u001b[36m__main__\u001b[0m:\u001b[36mdivide\u001b[0m:\u001b[36m5\u001b[0m - \u001b[1mDivision successful 18/9=2.0\u001b[0m\n"
     ]
    }
   ],
   "source": [
    "from loguru import logger\n",
    "def divide(n,d):\n",
    "    try:\n",
    "        result=n/d\n",
    "        logger.info(f\"Division successful {n}/{d}={result}\")\n",
    "        return result\n",
    "    except ZeroDivisionError:\n",
    "        logger.error(f\"Attempted to divide by 0:{n}/{d}\")\n",
    "        \n",
    "def main():\n",
    "    logger.add(\"application.log\", rotation=\"10 MB\")\n",
    "    numbers=[(20,5),(16,2),(8,0),(17,3),(18,9)]\n",
    "    for n1, n2 in numbers:\n",
    "        divide(n1,n2)\n",
    "        \n",
    "if __name__ == \"__main__\":\n",
    "    main()"
   ]
  },
  {
   "cell_type": "code",
   "execution_count": null,
   "id": "30a08fe9",
   "metadata": {},
   "outputs": [],
   "source": []
  }
 ],
 "metadata": {
  "kernelspec": {
   "display_name": "Python 3 (ipykernel)",
   "language": "python",
   "name": "python3"
  },
  "language_info": {
   "codemirror_mode": {
    "name": "ipython",
    "version": 3
   },
   "file_extension": ".py",
   "mimetype": "text/x-python",
   "name": "python",
   "nbconvert_exporter": "python",
   "pygments_lexer": "ipython3",
   "version": "3.9.12"
  }
 },
 "nbformat": 4,
 "nbformat_minor": 5
}
